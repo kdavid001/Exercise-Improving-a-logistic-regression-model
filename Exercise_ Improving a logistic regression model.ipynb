{
 "nbformat": 4,
 "nbformat_minor": 0,
 "metadata": {
  "colab": {
   "provenance": [],
   "authorship_tag": "ABX9TyPE9phOjX/hqmYi45xj9WlS"
  },
  "kernelspec": {
   "name": "python3",
   "display_name": "Python 3"
  },
  "language_info": {
   "name": "python"
  }
 },
 "cells": [
  {
   "cell_type": "code",
   "source": [
    "import pandas\n",
    "!pip install statsmodels\n",
    "!wget https://raw.githubusercontent.com/MicrosoftDocs/mslearn-introduction-to-machine-learning/main/graphing.py\n",
    "!wget https://raw.githubusercontent.com/MicrosoftDocs/mslearn-introduction-to-machine-learning/main/Data/avalanche.csv\n",
    "import graphing # custom graphing code. See our GitHub repo for details\n",
    "\n",
    "#Import the data from the .csv file\n",
    "dataset = pandas.read_csv('avalanche.csv', delimiter=\"\\t\", index_col=0)\n",
    "\n",
    "# Split our data into training and test\n",
    "import sklearn.model_selection\n",
    "train, test = sklearn.model_selection.train_test_split(dataset, test_size=0.25, random_state=10)\n",
    "\n",
    "print(\"Train size:\", train.shape[0])\n",
    "print(\"Test size:\", test.shape[0])\n",
    "\n",
    "#Let's have a look at the data\n",
    "print(train.head())"
   ],
   "metadata": {
    "colab": {
     "base_uri": "https://localhost:8080/"
    },
    "id": "b2FX5lV_yeJw",
    "executionInfo": {
     "status": "ok",
     "timestamp": 1727386348403,
     "user_tz": -60,
     "elapsed": 18441,
     "user": {
      "displayName": "Korede david",
      "userId": "04917254983458292970"
     }
    },
    "outputId": "10c8fe53-dc32-4d39-d4f0-f6657208cd20"
   },
   "execution_count": 1,
   "outputs": []
  },
  {
   "cell_type": "code",
   "source": [
    "import sklearn\n",
    "from sklearn.metrics import accuracy_score\n",
    "import statsmodels.formula.api as smf\n",
    "\n",
    "# Perform logistic regression.\n",
    "model = smf.logit(\"avalanche ~ weak_layers\", train).fit()\n",
    "\n",
    "# Calculate accuracy\n",
    "def calculate_accuracy(model):\n",
    "    '''\n",
    "    Calculates accuracy\n",
    "    '''\n",
    "    # Make estimations and convert to categories\n",
    "    avalanche_predicted = model.predict(test) > 0.5\n",
    "\n",
    "    # Calculate what proportion were predicted correctly\n",
    "    # We can use sklearn to calculate accuracy for us\n",
    "    print(\"Accuracy:\", accuracy_score(test.avalanche, avalanche_predicted))\n",
    "\n",
    "calculate_accuracy(model)"
   ],
   "metadata": {
    "colab": {
     "base_uri": "https://localhost:8080/"
    },
    "id": "BEJ7_tlVyvGk",
    "executionInfo": {
     "status": "ok",
     "timestamp": 1727386348960,
     "user_tz": -60,
     "elapsed": 562,
     "user": {
      "displayName": "Korede david",
      "userId": "04917254983458292970"
     }
    },
    "outputId": "39b91546-2f0e-44e2-ae3c-e6ab756d1a29"
   },
   "execution_count": 2,
   "outputs": []
  },
  {
   "cell_type": "code",
   "source": [
    "# Perform logistic regression.\n",
    "model_all_features = smf.logit(\"avalanche ~ weak_layers + surface_hoar + fresh_thickness + wind + no_visitors + tracked_out\", train).fit()\n",
    "calculate_accuracy(model_all_features)"
   ],
   "metadata": {
    "colab": {
     "base_uri": "https://localhost:8080/"
    },
    "id": "uA2wWztxzHoC",
    "executionInfo": {
     "status": "ok",
     "timestamp": 1727386348961,
     "user_tz": -60,
     "elapsed": 14,
     "user": {
      "displayName": "Korede david",
      "userId": "04917254983458292970"
     }
    },
    "outputId": "bbe626ea-1691-4350-a168-a9d027c432cd"
   },
   "execution_count": 3,
   "outputs": []
  },
  {
   "cell_type": "code",
   "source": [
    "model_all_features.summary()"
   ],
   "metadata": {
    "id": "c4XMIlZlzMvr",
    "executionInfo": {
     "status": "ok",
     "timestamp": 1727386348961,
     "user_tz": -60,
     "elapsed": 12,
     "user": {
      "displayName": "Korede david",
      "userId": "04917254983458292970"
     }
    },
    "outputId": "3d946cf0-2178-4424-8090-5becd7489970",
    "colab": {
     "base_uri": "https://localhost:8080/",
     "height": 353
    }
   },
   "execution_count": 4,
   "outputs": []
  },
  {
   "cell_type": "code",
   "source": [
    "# Perform logistic regression.\n",
    "model_simplified = smf.logit(\"avalanche ~ weak_layers + surface_hoar + wind + no_visitors\", train).fit()\n",
    "calculate_accuracy(model_simplified)"
   ],
   "metadata": {
    "colab": {
     "base_uri": "https://localhost:8080/"
    },
    "id": "dF9lRtHo04SG",
    "executionInfo": {
     "status": "ok",
     "timestamp": 1727386348961,
     "user_tz": -60,
     "elapsed": 10,
     "user": {
      "displayName": "Korede david",
      "userId": "04917254983458292970"
     }
    },
    "outputId": "a90bab90-0b47-446d-bec8-9118c390de40"
   },
   "execution_count": 5,
   "outputs": []
  },
  {
   "cell_type": "code",
   "source": [
    "model_all_features.summary()"
   ],
   "metadata": {
    "colab": {
     "base_uri": "https://localhost:8080/",
     "height": 353
    },
    "id": "QQgA_Zr61V3X",
    "executionInfo": {
     "status": "ok",
     "timestamp": 1727386348961,
     "user_tz": -60,
     "elapsed": 8,
     "user": {
      "displayName": "Korede david",
      "userId": "04917254983458292970"
     }
    },
    "outputId": "0dddd02b-9b02-4b55-fed5-7cf27d293967"
   },
   "execution_count": 6,
   "outputs": []
  },
  {
   "cell_type": "code",
   "source": [
    "# Create a model with an interaction. Notice the end of the string where\n",
    "# we've a multiply sign between no_visitors and fresh_thickness\n",
    "formula = \"avalanche ~ weak_layers + surface_hoar + wind + no_visitors * fresh_thickness\"\n",
    "model_with_interaction = smf.logit(formula, train).fit()\n",
    "calculate_accuracy(model_with_interaction)"
   ],
   "metadata": {
    "colab": {
     "base_uri": "https://localhost:8080/"
    },
    "id": "fl8a4iIm1rr2",
    "executionInfo": {
     "status": "ok",
     "timestamp": 1727386349557,
     "user_tz": -60,
     "elapsed": 603,
     "user": {
      "displayName": "Korede david",
      "userId": "04917254983458292970"
     }
    },
    "outputId": "4ca42a24-b271-4c2e-cd04-b45259877c69"
   },
   "execution_count": 7,
   "outputs": []
  },
  {
   "cell_type": "code",
   "source": [
    "model_with_interaction.summary()"
   ],
   "metadata": {
    "colab": {
     "base_uri": "https://localhost:8080/",
     "height": 353
    },
    "id": "iLeFzMYMN8y6",
    "executionInfo": {
     "status": "ok",
     "timestamp": 1727386349558,
     "user_tz": -60,
     "elapsed": 6,
     "user": {
      "displayName": "Korede david",
      "userId": "04917254983458292970"
     }
    },
    "outputId": "ebdd9001-4f88-440b-b210-431d1d97764f"
   },
   "execution_count": 8,
   "outputs": []
  },
  {
   "cell_type": "code",
   "source": [
    "graphing.model_to_surface_plot(model_with_interaction, [\"weak_layers\", \"wind\"], test)"
   ],
   "metadata": {
    "colab": {
     "base_uri": "https://localhost:8080/",
     "height": 1000
    },
    "id": "9qvyHzuON-sl",
    "executionInfo": {
     "status": "ok",
     "timestamp": 1727386355439,
     "user_tz": -60,
     "elapsed": 5886,
     "user": {
      "displayName": "Korede david",
      "userId": "04917254983458292970"
     }
    },
    "outputId": "1ca357e0-8fe2-454a-d711-d591573cc121"
   },
   "execution_count": 9,
   "outputs": []
  },
  {
   "cell_type": "code",
   "source": [
    "graphing.model_to_surface_plot(model_with_interaction, [\"no_visitors\", \"fresh_thickness\"], test)"
   ],
   "metadata": {
    "colab": {
     "base_uri": "https://localhost:8080/",
     "height": 1000
    },
    "id": "A4QpQFamRfUP",
    "executionInfo": {
     "status": "ok",
     "timestamp": 1727386362984,
     "user_tz": -60,
     "elapsed": 7554,
     "user": {
      "displayName": "Korede david",
      "userId": "04917254983458292970"
     }
    },
    "outputId": "cadb9861-ced0-4220-df83-0bb8a6f3f68b"
   },
   "execution_count": 10,
   "outputs": []
  }
 ]
}
